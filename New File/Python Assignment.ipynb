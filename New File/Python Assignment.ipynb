{
 "cells": [
  {
   "cell_type": "code",
   "execution_count": 36,
   "id": "367ce422",
   "metadata": {},
   "outputs": [
    {
     "name": "stdout",
     "output_type": "stream",
     "text": [
      "Enter the number5\n",
      "120\n"
     ]
    }
   ],
   "source": [
    "n=int(input('Enter the number'))\n",
    "def rec_fact (n):\n",
    "    if n == 1:\n",
    "        return n\n",
    "    elif n < 1:\n",
    "        return ('Factorial of negative number does not exist')\n",
    "    else:\n",
    "        return n*rec_fact (n-1)\n",
    "print (rec_fact (n))\n"
   ]
  },
  {
   "cell_type": "code",
   "execution_count": 37,
   "id": "583a84a6",
   "metadata": {},
   "outputs": [
    {
     "name": "stdout",
     "output_type": "stream",
     "text": [
      "Enter any number :1\n",
      "1 is a neither Prime NOR Composite number\n"
     ]
    }
   ],
   "source": [
    "num = int(input('Enter any number :'))\n",
    "if num > 1:\n",
    "    for i in range(2, num):\n",
    "        if (num % i) == 0:\n",
    "            print(num, \"is NOT a PRIME number, it is a COMPOSITE number\")\n",
    "            break\n",
    "    else:\n",
    "        print(num, \"is a PRIME number\")\n",
    "elif num == 0 or 1:\n",
    "    print(num, \"is a neither Prime NOR Composite number\")\n",
    "else:\n",
    "    print()"
   ]
  },
  {
   "cell_type": "code",
   "execution_count": 42,
   "id": "3fee5580",
   "metadata": {},
   "outputs": [
    {
     "name": "stdout",
     "output_type": "stream",
     "text": [
      "Enter string:radar\n",
      "The string is a palindrome\n"
     ]
    }
   ],
   "source": [
    "a=input(\"Enter string:\")\n",
    "if(a==a[::-1]):\n",
    "      print(\"The string is a palindrome\")\n",
    "else:\n",
    "      print(\"The string isn't a palindrome\")"
   ]
  },
  {
   "cell_type": "code",
   "execution_count": 44,
   "id": "1b092910",
   "metadata": {},
   "outputs": [
    {
     "name": "stdout",
     "output_type": "stream",
     "text": [
      "Enter base: 4\n",
      "Enter height: 3\n",
      "Hypotenuse = 5.0\n"
     ]
    }
   ],
   "source": [
    "import math\n",
    "\n",
    "a = float(input(\"Enter base: \"))\n",
    "b = float(input(\"Enter height: \"))\n",
    "\n",
    "c = math.sqrt(a ** 2 + b ** 2)\n",
    "\n",
    "print(\"Hypotenuse =\", c)"
   ]
  },
  {
   "cell_type": "code",
   "execution_count": 47,
   "id": "89a2e3b1",
   "metadata": {},
   "outputs": [
    {
     "name": "stdout",
     "output_type": "stream",
     "text": [
      "Enter string:param\n",
      "Characters with their frequencies:\n",
      " {'p': 1}\n",
      "Characters with their frequencies:\n",
      " {'p': 1, 'a': 1}\n",
      "Characters with their frequencies:\n",
      " {'p': 1, 'a': 1, 'r': 1}\n",
      "Characters with their frequencies:\n",
      " {'p': 1, 'a': 2, 'r': 1, 'm': 1}\n"
     ]
    }
   ],
   "source": [
    "string =input(\"Enter string:\")\n",
    "freq_dict={}\n",
    "for i in string: \n",
    "    if i in freq_dict: \n",
    "        freq_dict[i]=freq_dict[i] + 1\n",
    "    else: \n",
    "        freq_dict[i] = 1\n",
    "        print (\"Characters with their frequencies:\\n\",freq_dict)"
   ]
  },
  {
   "cell_type": "code",
   "execution_count": null,
   "id": "cc982e94",
   "metadata": {},
   "outputs": [],
   "source": []
  }
 ],
 "metadata": {
  "kernelspec": {
   "display_name": "Python 3 (ipykernel)",
   "language": "python",
   "name": "python3"
  },
  "language_info": {
   "codemirror_mode": {
    "name": "ipython",
    "version": 3
   },
   "file_extension": ".py",
   "mimetype": "text/x-python",
   "name": "python",
   "nbconvert_exporter": "python",
   "pygments_lexer": "ipython3",
   "version": "3.11.5"
  }
 },
 "nbformat": 4,
 "nbformat_minor": 5
}
