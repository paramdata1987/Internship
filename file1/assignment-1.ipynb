{
 "cells": [
  {
   "cell_type": "code",
   "execution_count": 95,
   "id": "0f6bfc1e",
   "metadata": {},
   "outputs": [],
   "source": [
    "import regex as re\n",
    "import pandas as pd"
   ]
  },
  {
   "cell_type": "markdown",
   "id": "666777cc",
   "metadata": {},
   "source": [
    "# Answer-1"
   ]
  },
  {
   "cell_type": "code",
   "execution_count": 96,
   "id": "84900d30",
   "metadata": {},
   "outputs": [
    {
     "name": "stdout",
     "output_type": "stream",
     "text": [
      "Python:Exercises,:PHP:exercises.\n"
     ]
    }
   ],
   "source": [
    "sub='Python Exercises, PHP exercises.'\n",
    "x=re.sub('\\s',':',sub)\n",
    "print(x)"
   ]
  },
  {
   "cell_type": "code",
   "execution_count": 97,
   "id": "1ce416ad",
   "metadata": {},
   "outputs": [
    {
     "name": "stdout",
     "output_type": "stream",
     "text": [
      "Python:Exercises::PHP:exercises:\n"
     ]
    }
   ],
   "source": [
    "sub=x\n",
    "y=re.sub('[,.]',':',sub)\n",
    "print(y)"
   ]
  },
  {
   "cell_type": "markdown",
   "id": "0f386911",
   "metadata": {},
   "source": [
    "# Answer-2"
   ]
  },
  {
   "cell_type": "code",
   "execution_count": 98,
   "id": "9852f1a7",
   "metadata": {},
   "outputs": [
    {
     "data": {
      "text/html": [
       "<div>\n",
       "<style scoped>\n",
       "    .dataframe tbody tr th:only-of-type {\n",
       "        vertical-align: middle;\n",
       "    }\n",
       "\n",
       "    .dataframe tbody tr th {\n",
       "        vertical-align: top;\n",
       "    }\n",
       "\n",
       "    .dataframe thead th {\n",
       "        text-align: right;\n",
       "    }\n",
       "</style>\n",
       "<table border=\"1\" class=\"dataframe\">\n",
       "  <thead>\n",
       "    <tr style=\"text-align: right;\">\n",
       "      <th></th>\n",
       "      <th>SUMMARY</th>\n",
       "    </tr>\n",
       "  </thead>\n",
       "  <tbody>\n",
       "    <tr>\n",
       "      <th>0</th>\n",
       "      <td>hello world</td>\n",
       "    </tr>\n",
       "    <tr>\n",
       "      <th>1</th>\n",
       "      <td>XXXXX test</td>\n",
       "    </tr>\n",
       "    <tr>\n",
       "      <th>2</th>\n",
       "      <td>four five six</td>\n",
       "    </tr>\n",
       "  </tbody>\n",
       "</table>\n",
       "</div>"
      ],
      "text/plain": [
       "         SUMMARY\n",
       "0    hello world\n",
       "1     XXXXX test\n",
       "2  four five six"
      ]
     },
     "execution_count": 98,
     "metadata": {},
     "output_type": "execute_result"
    }
   ],
   "source": [
    "dict_1= {'SUMMARY': ['hello, world!', 'XXXXX test', '123four, five:; six...']}\n",
    "df=pd.DataFrame(dict_1)\n",
    "df['SUMMARY'] = df['SUMMARY'].str.replace('[^a-zA-Z\\s]', '',regex=True)\n",
    "df"
   ]
  },
  {
   "cell_type": "markdown",
   "id": "70f5144d",
   "metadata": {},
   "source": [
    "# Answer-3"
   ]
  },
  {
   "cell_type": "code",
   "execution_count": 99,
   "id": "dc4f2c0c",
   "metadata": {},
   "outputs": [],
   "source": [
    "def sentence(input_string):\n",
    "    string_pattern=r'\\b\\w{4}\\b'\n",
    "    regex_pattern=re.compile(string_pattern)\n",
    "    return regex_pattern.findall(input_string)"
   ]
  },
  {
   "cell_type": "code",
   "execution_count": 100,
   "id": "af78ed09",
   "metadata": {},
   "outputs": [
    {
     "name": "stdout",
     "output_type": "stream",
     "text": [
      "['name']\n"
     ]
    }
   ],
   "source": [
    "input_string='My name is param'\n",
    "result=sentence(input_string)\n",
    "print(result)"
   ]
  },
  {
   "cell_type": "markdown",
   "id": "1a6ed628",
   "metadata": {},
   "source": [
    "# Answer-4"
   ]
  },
  {
   "cell_type": "code",
   "execution_count": 101,
   "id": "9c7f163a",
   "metadata": {},
   "outputs": [],
   "source": [
    "def sentence(input_string):\n",
    "    string_pattern=r'\\b\\w{3}\\b|\\b\\w{4}\\b|\\b\\w{5}\\b'\n",
    "    regex_pattern=re.compile(string_pattern)\n",
    "    return regex_pattern.findall(input_string)"
   ]
  },
  {
   "cell_type": "code",
   "execution_count": 102,
   "id": "ba0f58bb",
   "metadata": {},
   "outputs": [
    {
     "name": "stdout",
     "output_type": "stream",
     "text": [
      "['wins', 'odi', 'world', 'cup', '2023']\n"
     ]
    }
   ],
   "source": [
    "input_string='Australia wins odi world cup 2023'\n",
    "result=sentence(input_string)\n",
    "print(result)"
   ]
  },
  {
   "cell_type": "markdown",
   "id": "b7dde245",
   "metadata": {},
   "source": [
    "# Answer-5"
   ]
  },
  {
   "cell_type": "code",
   "execution_count": 103,
   "id": "f76c8c88",
   "metadata": {},
   "outputs": [],
   "source": [
    "def remove_parentheses(input_list):\n",
    "    string_pattern=r'[()]'\n",
    "    regex_pattern=re.compile(string_pattern)\n",
    "    return [regex_pattern.sub('',s) for s in input_list]"
   ]
  },
  {
   "cell_type": "markdown",
   "id": "4db117ce",
   "metadata": {},
   "source": [
    "# Answer-6"
   ]
  },
  {
   "cell_type": "code",
   "execution_count": 104,
   "id": "9d1a22cc",
   "metadata": {},
   "outputs": [
    {
     "name": "stdout",
     "output_type": "stream",
     "text": [
      "['example .com', 'hr@fliprobo .com', 'github .com', 'Hello Data Science World', 'Data Scientist']\n"
     ]
    }
   ],
   "source": [
    "input_list=[\"example (.com)\", \"hr@fliprobo (.com)\", \"github (.com)\", \"Hello (Data Science World)\", \"Data (Scientist)\"]\n",
    "result=remove_parentheses(input_list)\n",
    "print(result)"
   ]
  },
  {
   "cell_type": "markdown",
   "id": "9e244d13",
   "metadata": {},
   "source": [
    "# Answer-7"
   ]
  },
  {
   "cell_type": "code",
   "execution_count": 105,
   "id": "cba5e009",
   "metadata": {},
   "outputs": [
    {
     "name": "stdout",
     "output_type": "stream",
     "text": [
      "['Importance', 'Of', 'Regular', 'Expressions', 'In', 'Python']\n"
     ]
    }
   ],
   "source": [
    "target_text='ImportanceOfRegularExpressionsInPython'\n",
    "pattern=r\"(?<=.)(?=[A-Z])\"\n",
    "l=re.split(pattern,target_text)\n",
    "print(l)"
   ]
  },
  {
   "cell_type": "markdown",
   "id": "00bc71f0",
   "metadata": {},
   "source": [
    "# Answer-8"
   ]
  },
  {
   "cell_type": "code",
   "execution_count": 106,
   "id": "354accda",
   "metadata": {},
   "outputs": [],
   "source": [
    "def insert_spaces(target_text):\n",
    "    string_pattern= r'(\\d+)([A-Za-z]+)'\n",
    "    regex_pattern=re.compile(string_pattern)\n",
    "    return[regex_pattern.sub(r'\\1 \\2',target_text)]"
   ]
  },
  {
   "cell_type": "code",
   "execution_count": 107,
   "id": "3e296b34",
   "metadata": {},
   "outputs": [
    {
     "name": "stdout",
     "output_type": "stream",
     "text": [
      "['RegularExpression1 IsAn2 ImportantTopic3 InPython']\n"
     ]
    }
   ],
   "source": [
    "target_text='RegularExpression1IsAn2ImportantTopic3InPython'\n",
    "result=insert_spaces(target_text)\n",
    "print(result)"
   ]
  },
  {
   "cell_type": "code",
   "execution_count": 108,
   "id": "45ad5854",
   "metadata": {},
   "outputs": [],
   "source": [
    "import regex as re\n",
    "import pandas as pd"
   ]
  },
  {
   "cell_type": "markdown",
   "id": "f0065932",
   "metadata": {},
   "source": [
    "# Answer-9"
   ]
  },
  {
   "cell_type": "code",
   "execution_count": 109,
   "id": "bd9b7765",
   "metadata": {},
   "outputs": [],
   "source": [
    "def insert_spaces(target_text):\n",
    "    pattern = r'(([A-Z][a-z0-9])+|(\\d+))'\n",
    "  # Replace the matched words with a space followed by the word\n",
    "    result = re.sub(pattern, r' \\1',target_text)\n",
    "  # Remove any leading or trailing spaces\n",
    "    result = result.strip()\n",
    "    return result"
   ]
  },
  {
   "cell_type": "code",
   "execution_count": 110,
   "id": "1b72a5ab",
   "metadata": {},
   "outputs": [
    {
     "name": "stdout",
     "output_type": "stream",
     "text": [
      "Regular Expression 1 IsAn 2 Important Topic 3 InPython\n"
     ]
    }
   ],
   "source": [
    "target_text='RegularExpression1IsAn2ImportantTopic3InPython'\n",
    "result=insert_spaces(target_text)\n",
    "print(result)"
   ]
  },
  {
   "cell_type": "code",
   "execution_count": 3,
   "id": "77d22833",
   "metadata": {},
   "outputs": [],
   "source": [
    "import regex as re\n",
    "import pandas as pd\n",
    "import numpy as np"
   ]
  },
  {
   "cell_type": "markdown",
   "id": "adaf312d",
   "metadata": {},
   "source": [
    "# Answer-10"
   ]
  },
  {
   "cell_type": "code",
   "execution_count": 4,
   "id": "b4f0b001",
   "metadata": {},
   "outputs": [
    {
     "data": {
      "text/html": [
       "<div>\n",
       "<style scoped>\n",
       "    .dataframe tbody tr th:only-of-type {\n",
       "        vertical-align: middle;\n",
       "    }\n",
       "\n",
       "    .dataframe tbody tr th {\n",
       "        vertical-align: top;\n",
       "    }\n",
       "\n",
       "    .dataframe thead th {\n",
       "        text-align: right;\n",
       "    }\n",
       "</style>\n",
       "<table border=\"1\" class=\"dataframe\">\n",
       "  <thead>\n",
       "    <tr style=\"text-align: right;\">\n",
       "      <th></th>\n",
       "      <th>Country</th>\n",
       "      <th>Region</th>\n",
       "      <th>Happiness Rank</th>\n",
       "      <th>Happiness Score</th>\n",
       "      <th>Standard Error</th>\n",
       "      <th>Economy (GDP per Capita)</th>\n",
       "      <th>Family</th>\n",
       "      <th>Health (Life Expectancy)</th>\n",
       "      <th>Freedom</th>\n",
       "      <th>Trust (Government Corruption)</th>\n",
       "      <th>Generosity</th>\n",
       "      <th>Dystopia Residual</th>\n",
       "    </tr>\n",
       "  </thead>\n",
       "  <tbody>\n",
       "    <tr>\n",
       "      <th>0</th>\n",
       "      <td>Switzerland</td>\n",
       "      <td>Western Europe</td>\n",
       "      <td>1</td>\n",
       "      <td>7.587</td>\n",
       "      <td>0.03411</td>\n",
       "      <td>1.39651</td>\n",
       "      <td>1.34951</td>\n",
       "      <td>0.94143</td>\n",
       "      <td>0.66557</td>\n",
       "      <td>0.41978</td>\n",
       "      <td>0.29678</td>\n",
       "      <td>2.51738</td>\n",
       "    </tr>\n",
       "    <tr>\n",
       "      <th>1</th>\n",
       "      <td>Iceland</td>\n",
       "      <td>Western Europe</td>\n",
       "      <td>2</td>\n",
       "      <td>7.561</td>\n",
       "      <td>0.04884</td>\n",
       "      <td>1.30232</td>\n",
       "      <td>1.40223</td>\n",
       "      <td>0.94784</td>\n",
       "      <td>0.62877</td>\n",
       "      <td>0.14145</td>\n",
       "      <td>0.43630</td>\n",
       "      <td>2.70201</td>\n",
       "    </tr>\n",
       "    <tr>\n",
       "      <th>2</th>\n",
       "      <td>Denmark</td>\n",
       "      <td>Western Europe</td>\n",
       "      <td>3</td>\n",
       "      <td>7.527</td>\n",
       "      <td>0.03328</td>\n",
       "      <td>1.32548</td>\n",
       "      <td>1.36058</td>\n",
       "      <td>0.87464</td>\n",
       "      <td>0.64938</td>\n",
       "      <td>0.48357</td>\n",
       "      <td>0.34139</td>\n",
       "      <td>2.49204</td>\n",
       "    </tr>\n",
       "    <tr>\n",
       "      <th>3</th>\n",
       "      <td>Norway</td>\n",
       "      <td>Western Europe</td>\n",
       "      <td>4</td>\n",
       "      <td>7.522</td>\n",
       "      <td>0.03880</td>\n",
       "      <td>1.45900</td>\n",
       "      <td>1.33095</td>\n",
       "      <td>0.88521</td>\n",
       "      <td>0.66973</td>\n",
       "      <td>0.36503</td>\n",
       "      <td>0.34699</td>\n",
       "      <td>2.46531</td>\n",
       "    </tr>\n",
       "    <tr>\n",
       "      <th>4</th>\n",
       "      <td>Canada</td>\n",
       "      <td>North America</td>\n",
       "      <td>5</td>\n",
       "      <td>7.427</td>\n",
       "      <td>0.03553</td>\n",
       "      <td>1.32629</td>\n",
       "      <td>1.32261</td>\n",
       "      <td>0.90563</td>\n",
       "      <td>0.63297</td>\n",
       "      <td>0.32957</td>\n",
       "      <td>0.45811</td>\n",
       "      <td>2.45176</td>\n",
       "    </tr>\n",
       "    <tr>\n",
       "      <th>...</th>\n",
       "      <td>...</td>\n",
       "      <td>...</td>\n",
       "      <td>...</td>\n",
       "      <td>...</td>\n",
       "      <td>...</td>\n",
       "      <td>...</td>\n",
       "      <td>...</td>\n",
       "      <td>...</td>\n",
       "      <td>...</td>\n",
       "      <td>...</td>\n",
       "      <td>...</td>\n",
       "      <td>...</td>\n",
       "    </tr>\n",
       "    <tr>\n",
       "      <th>153</th>\n",
       "      <td>Rwanda</td>\n",
       "      <td>Sub-Saharan Africa</td>\n",
       "      <td>154</td>\n",
       "      <td>3.465</td>\n",
       "      <td>0.03464</td>\n",
       "      <td>0.22208</td>\n",
       "      <td>0.77370</td>\n",
       "      <td>0.42864</td>\n",
       "      <td>0.59201</td>\n",
       "      <td>0.55191</td>\n",
       "      <td>0.22628</td>\n",
       "      <td>0.67042</td>\n",
       "    </tr>\n",
       "    <tr>\n",
       "      <th>154</th>\n",
       "      <td>Benin</td>\n",
       "      <td>Sub-Saharan Africa</td>\n",
       "      <td>155</td>\n",
       "      <td>3.340</td>\n",
       "      <td>0.03656</td>\n",
       "      <td>0.28665</td>\n",
       "      <td>0.35386</td>\n",
       "      <td>0.31910</td>\n",
       "      <td>0.48450</td>\n",
       "      <td>0.08010</td>\n",
       "      <td>0.18260</td>\n",
       "      <td>1.63328</td>\n",
       "    </tr>\n",
       "    <tr>\n",
       "      <th>155</th>\n",
       "      <td>Syria</td>\n",
       "      <td>Middle East and Northern Africa</td>\n",
       "      <td>156</td>\n",
       "      <td>3.006</td>\n",
       "      <td>0.05015</td>\n",
       "      <td>0.66320</td>\n",
       "      <td>0.47489</td>\n",
       "      <td>0.72193</td>\n",
       "      <td>0.15684</td>\n",
       "      <td>0.18906</td>\n",
       "      <td>0.47179</td>\n",
       "      <td>0.32858</td>\n",
       "    </tr>\n",
       "    <tr>\n",
       "      <th>156</th>\n",
       "      <td>Burundi</td>\n",
       "      <td>Sub-Saharan Africa</td>\n",
       "      <td>157</td>\n",
       "      <td>2.905</td>\n",
       "      <td>0.08658</td>\n",
       "      <td>0.01530</td>\n",
       "      <td>0.41587</td>\n",
       "      <td>0.22396</td>\n",
       "      <td>0.11850</td>\n",
       "      <td>0.10062</td>\n",
       "      <td>0.19727</td>\n",
       "      <td>1.83302</td>\n",
       "    </tr>\n",
       "    <tr>\n",
       "      <th>157</th>\n",
       "      <td>Togo</td>\n",
       "      <td>Sub-Saharan Africa</td>\n",
       "      <td>158</td>\n",
       "      <td>2.839</td>\n",
       "      <td>0.06727</td>\n",
       "      <td>0.20868</td>\n",
       "      <td>0.13995</td>\n",
       "      <td>0.28443</td>\n",
       "      <td>0.36453</td>\n",
       "      <td>0.10731</td>\n",
       "      <td>0.16681</td>\n",
       "      <td>1.56726</td>\n",
       "    </tr>\n",
       "  </tbody>\n",
       "</table>\n",
       "<p>158 rows × 12 columns</p>\n",
       "</div>"
      ],
      "text/plain": [
       "         Country                           Region  Happiness Rank  \\\n",
       "0    Switzerland                   Western Europe               1   \n",
       "1        Iceland                   Western Europe               2   \n",
       "2        Denmark                   Western Europe               3   \n",
       "3         Norway                   Western Europe               4   \n",
       "4         Canada                    North America               5   \n",
       "..           ...                              ...             ...   \n",
       "153       Rwanda               Sub-Saharan Africa             154   \n",
       "154        Benin               Sub-Saharan Africa             155   \n",
       "155        Syria  Middle East and Northern Africa             156   \n",
       "156      Burundi               Sub-Saharan Africa             157   \n",
       "157         Togo               Sub-Saharan Africa             158   \n",
       "\n",
       "     Happiness Score  Standard Error  Economy (GDP per Capita)   Family  \\\n",
       "0              7.587         0.03411                   1.39651  1.34951   \n",
       "1              7.561         0.04884                   1.30232  1.40223   \n",
       "2              7.527         0.03328                   1.32548  1.36058   \n",
       "3              7.522         0.03880                   1.45900  1.33095   \n",
       "4              7.427         0.03553                   1.32629  1.32261   \n",
       "..               ...             ...                       ...      ...   \n",
       "153            3.465         0.03464                   0.22208  0.77370   \n",
       "154            3.340         0.03656                   0.28665  0.35386   \n",
       "155            3.006         0.05015                   0.66320  0.47489   \n",
       "156            2.905         0.08658                   0.01530  0.41587   \n",
       "157            2.839         0.06727                   0.20868  0.13995   \n",
       "\n",
       "     Health (Life Expectancy)  Freedom  Trust (Government Corruption)  \\\n",
       "0                     0.94143  0.66557                        0.41978   \n",
       "1                     0.94784  0.62877                        0.14145   \n",
       "2                     0.87464  0.64938                        0.48357   \n",
       "3                     0.88521  0.66973                        0.36503   \n",
       "4                     0.90563  0.63297                        0.32957   \n",
       "..                        ...      ...                            ...   \n",
       "153                   0.42864  0.59201                        0.55191   \n",
       "154                   0.31910  0.48450                        0.08010   \n",
       "155                   0.72193  0.15684                        0.18906   \n",
       "156                   0.22396  0.11850                        0.10062   \n",
       "157                   0.28443  0.36453                        0.10731   \n",
       "\n",
       "     Generosity  Dystopia Residual  \n",
       "0       0.29678            2.51738  \n",
       "1       0.43630            2.70201  \n",
       "2       0.34139            2.49204  \n",
       "3       0.34699            2.46531  \n",
       "4       0.45811            2.45176  \n",
       "..          ...                ...  \n",
       "153     0.22628            0.67042  \n",
       "154     0.18260            1.63328  \n",
       "155     0.47179            0.32858  \n",
       "156     0.19727            1.83302  \n",
       "157     0.16681            1.56726  \n",
       "\n",
       "[158 rows x 12 columns]"
      ]
     },
     "execution_count": 4,
     "metadata": {},
     "output_type": "execute_result"
    }
   ],
   "source": [
    "df=pd.read_csv('happiness score dataset.csv')\n",
    "df"
   ]
  },
  {
   "cell_type": "code",
   "execution_count": 5,
   "id": "46553d3f",
   "metadata": {},
   "outputs": [
    {
     "name": "stdout",
     "output_type": "stream",
     "text": [
      "         Country                           Region  Happiness Rank  \\\n",
      "0    Switzerland                   Western Europe               1   \n",
      "1        Iceland                   Western Europe               2   \n",
      "2        Denmark                   Western Europe               3   \n",
      "3         Norway                   Western Europe               4   \n",
      "4         Canada                    North America               5   \n",
      "..           ...                              ...             ...   \n",
      "153       Rwanda               Sub-Saharan Africa             154   \n",
      "154        Benin               Sub-Saharan Africa             155   \n",
      "155        Syria  Middle East and Northern Africa             156   \n",
      "156      Burundi               Sub-Saharan Africa             157   \n",
      "157         Togo               Sub-Saharan Africa             158   \n",
      "\n",
      "     Happiness Score  Standard Error  Economy (GDP per Capita)   Family  \\\n",
      "0              7.587         0.03411                   1.39651  1.34951   \n",
      "1              7.561         0.04884                   1.30232  1.40223   \n",
      "2              7.527         0.03328                   1.32548  1.36058   \n",
      "3              7.522         0.03880                   1.45900  1.33095   \n",
      "4              7.427         0.03553                   1.32629  1.32261   \n",
      "..               ...             ...                       ...      ...   \n",
      "153            3.465         0.03464                   0.22208  0.77370   \n",
      "154            3.340         0.03656                   0.28665  0.35386   \n",
      "155            3.006         0.05015                   0.66320  0.47489   \n",
      "156            2.905         0.08658                   0.01530  0.41587   \n",
      "157            2.839         0.06727                   0.20868  0.13995   \n",
      "\n",
      "     Health (Life Expectancy)  Freedom  Trust (Government Corruption)  \\\n",
      "0                     0.94143  0.66557                        0.41978   \n",
      "1                     0.94784  0.62877                        0.14145   \n",
      "2                     0.87464  0.64938                        0.48357   \n",
      "3                     0.88521  0.66973                        0.36503   \n",
      "4                     0.90563  0.63297                        0.32957   \n",
      "..                        ...      ...                            ...   \n",
      "153                   0.42864  0.59201                        0.55191   \n",
      "154                   0.31910  0.48450                        0.08010   \n",
      "155                   0.72193  0.15684                        0.18906   \n",
      "156                   0.22396  0.11850                        0.10062   \n",
      "157                   0.28443  0.36453                        0.10731   \n",
      "\n",
      "     Generosity  Dystopia Residual first_five_letters  \n",
      "0       0.29678            2.51738             Switze  \n",
      "1       0.43630            2.70201             Icelan  \n",
      "2       0.34139            2.49204             Denmar  \n",
      "3       0.34699            2.46531             Norway  \n",
      "4       0.45811            2.45176             Canada  \n",
      "..          ...                ...                ...  \n",
      "153     0.22628            0.67042             Rwanda  \n",
      "154     0.18260            1.63328                NaN  \n",
      "155     0.47179            0.32858                NaN  \n",
      "156     0.19727            1.83302             Burund  \n",
      "157     0.16681            1.56726                NaN  \n",
      "\n",
      "[158 rows x 13 columns]\n"
     ]
    }
   ],
   "source": [
    "pattern=r'(^[A-Za-z]{6})'\n",
    "first_five_letters=df['Country'].str.extract(pattern,expand=True)\n",
    "df['first_five_letters']=first_five_letters\n",
    "print(df)"
   ]
  },
  {
   "cell_type": "markdown",
   "id": "1a513bfa",
   "metadata": {},
   "source": [
    "# Answer-11"
   ]
  },
  {
   "cell_type": "code",
   "execution_count": 6,
   "id": "b1f0a9a0",
   "metadata": {},
   "outputs": [],
   "source": [
    "def match_string(target_text):\n",
    "        string_pattern = '[a-zA-z0-9_]*'\n",
    "        regex_pattern=re.compile(string_pattern)\n",
    "        return regex_pattern.findall(target_text)"
   ]
  },
  {
   "cell_type": "code",
   "execution_count": 7,
   "id": "1fe453e8",
   "metadata": {},
   "outputs": [
    {
     "name": "stdout",
     "output_type": "stream",
     "text": [
      "['Head', '', 'scored', '', '134_runs', '', 'in', '', 'the', '', 'Final', '', 'Match', '']\n"
     ]
    }
   ],
   "source": [
    "target_text=\"Head scored 134_runs in the Final Match\"\n",
    "result=match_string(target_text)\n",
    "print(result)"
   ]
  },
  {
   "cell_type": "markdown",
   "id": "9fcf32ec",
   "metadata": {},
   "source": [
    "# Answer-12"
   ]
  },
  {
   "cell_type": "code",
   "execution_count": 8,
   "id": "9d516a1b",
   "metadata": {},
   "outputs": [],
   "source": [
    "def match_string(target_text):\n",
    "        string_pattern = r'^4'\n",
    "        regex_pattern=re.compile(string_pattern)\n",
    "        return regex_pattern.findall(target_text)"
   ]
  },
  {
   "cell_type": "code",
   "execution_count": 11,
   "id": "814dc52a",
   "metadata": {},
   "outputs": [
    {
     "name": "stdout",
     "output_type": "stream",
     "text": [
      "['4']\n"
     ]
    }
   ],
   "source": [
    "target_text=\"41,25,65,35\"\n",
    "result=match_string(target_text)\n",
    "print(result)"
   ]
  },
  {
   "cell_type": "markdown",
   "id": "169a2312",
   "metadata": {},
   "source": [
    "# Answer-13"
   ]
  },
  {
   "cell_type": "code",
   "execution_count": 31,
   "id": "7bd8994e",
   "metadata": {},
   "outputs": [
    {
     "name": "stdout",
     "output_type": "stream",
     "text": [
      "192.168.80.5\n"
     ]
    }
   ],
   "source": [
    "target_text='192.168.080.005'\n",
    "result=re.sub('\\.[0]*', '.',target_text)\n",
    "print(result)"
   ]
  },
  {
   "cell_type": "code",
   "execution_count": 46,
   "id": "40705f5b",
   "metadata": {},
   "outputs": [
    {
     "name": "stdout",
     "output_type": "stream",
     "text": [
      "None\n"
     ]
    }
   ],
   "source": [
    "input_string='On August 15th 1947 that India was declared independent from British colonialism, and the reins of control were handed over to the leaders of the Country.'\n",
    "string_pattern=r'(\\d[A-Za-z]+)\\d{1,2}(?:st|nd|rd|th)?\\d{4}'\n",
    "regex_pattern=re.match(string_pattern,input_string)\n",
    "print(regex_pattern)"
   ]
  },
  {
   "cell_type": "code",
   "execution_count": 63,
   "id": "7d46bfed",
   "metadata": {},
   "outputs": [
    {
     "name": "stdout",
     "output_type": "stream",
     "text": [
      "Searching for \"fox\" in \"The quick brown fox jumps over the lazy dog.\" ->\n",
      "Matched!\n",
      "Searching for \"dog\" in \"The quick brown fox jumps over the lazy dog.\" ->\n",
      "Matched!\n",
      "Searching for \"horse\" in \"The quick brown fox jumps over the lazy dog.\" ->\n",
      "Not Matched!\n"
     ]
    }
   ],
   "source": [
    "patterns = [ 'fox', 'dog', 'horse' ]\n",
    "text = 'The quick brown fox jumps over the lazy dog.'\n",
    "for pattern in patterns:\n",
    "    print('Searching for \"%s\" in \"%s\" ->' % (pattern, text),)\n",
    "    if re.search(pattern,  text):\n",
    "        print('Matched!')\n",
    "    else:\n",
    "        print('Not Matched!')\n"
   ]
  },
  {
   "cell_type": "code",
   "execution_count": 64,
   "id": "065f1017",
   "metadata": {},
   "outputs": [
    {
     "name": "stdout",
     "output_type": "stream",
     "text": [
      "Found \"fox\" in \"The quick brown fox jumps over the lazy dog.\" from 16 to 19 \n"
     ]
    }
   ],
   "source": [
    "pattern = 'fox'\n",
    "text = 'The quick brown fox jumps over the lazy dog.'\n",
    "match = re.search(pattern, text)\n",
    "s = match.start()\n",
    "e = match.end()\n",
    "print('Found \"%s\" in \"%s\" from %d to %d ' % (match.re.pattern, match.string, s, e))"
   ]
  },
  {
   "cell_type": "code",
   "execution_count": 65,
   "id": "ce1ed8d2",
   "metadata": {},
   "outputs": [
    {
     "name": "stdout",
     "output_type": "stream",
     "text": [
      "Found \"exercises\"\n",
      "Found \"exercises\"\n",
      "Found \"exercises\"\n"
     ]
    }
   ],
   "source": [
    "text = 'Python exercises, PHP exercises, C# exercises'\n",
    "pattern = 'exercises'\n",
    "for match in re.findall(pattern, text):\n",
    "    print('Found \"%s\"' % match)"
   ]
  },
  {
   "cell_type": "code",
   "execution_count": 66,
   "id": "530f78ea",
   "metadata": {},
   "outputs": [
    {
     "name": "stdout",
     "output_type": "stream",
     "text": [
      "Found \"exercises\" at 7:16\n",
      "Found \"exercises\" at 22:31\n",
      "Found \"exercises\" at 36:45\n"
     ]
    }
   ],
   "source": [
    "text = 'Python exercises, PHP exercises, C# exercises'\n",
    "pattern = 'exercises'\n",
    "for match in re.finditer(pattern, text):\n",
    "    s = match.start()\n",
    "    e = match.end()\n",
    "    print('Found \"%s\" at %d:%d' % (text[s:e], s, e))"
   ]
  },
  {
   "cell_type": "code",
   "execution_count": 67,
   "id": "f37d03c2",
   "metadata": {},
   "outputs": [
    {
     "name": "stdout",
     "output_type": "stream",
     "text": [
      "Original date in YYY-MM-DD Format:  2026-01-02\n",
      "New date in DD-MM-YYYY Format:  02-01-2026\n"
     ]
    }
   ],
   "source": [
    "def change_date_format(dt):\n",
    "        return re.sub(r'(\\d{4})-(\\d{1,2})-(\\d{1,2})', '\\\\3-\\\\2-\\\\1', dt)\n",
    "dt1 = \"2026-01-02\"\n",
    "print(\"Original date in YYY-MM-DD Format: \",dt1)\n",
    "print(\"New date in DD-MM-YYYY Format: \",change_date_format(dt1))"
   ]
  },
  {
   "cell_type": "code",
   "execution_count": 69,
   "id": "65a6fa2b",
   "metadata": {},
   "outputs": [
    {
     "name": "stdout",
     "output_type": "stream",
     "text": [
      "623\n",
      "Index position: 18\n",
      "2023\n",
      "Index position: 30\n"
     ]
    }
   ],
   "source": [
    "target_text='Rohit sharma made 623 runs in 2023 world cup'\n",
    "\n",
    "for m in re.finditer(\"\\d+\",target_text):\n",
    "    print(m.group(0))\n",
    "    print(\"Index position:\", m.start())"
   ]
  },
  {
   "cell_type": "code",
   "execution_count": 90,
   "id": "29996d2d",
   "metadata": {},
   "outputs": [
    {
     "name": "stdout",
     "output_type": "stream",
     "text": [
      "['12-09-1992', '15-12-1999']\n"
     ]
    }
   ],
   "source": [
    "file = open(\"untitled1.txt\",'r')\n",
    "text=file.read()\n",
    "pattern=r\"\\d{2}[/-]\\d{2}[/-]\\d{4}\"\n",
    "match=re.findall(pattern,text)\n",
    "print(match)"
   ]
  },
  {
   "cell_type": "code",
   "execution_count": 92,
   "id": "4af6a9ce",
   "metadata": {},
   "outputs": [
    {
     "name": "stdout",
     "output_type": "stream",
     "text": [
      "Max_value: 950\n"
     ]
    }
   ],
   "source": [
    "Sample_Text='My marks in each semester are: 947, 896, 926, 524, 734, 950, 642'\n",
    "number = re.findall('\\d+',Sample_Text)\n",
    "number = map(int, number)\n",
    "print(\"Max_value:\",max(number))"
   ]
  },
  {
   "cell_type": "code",
   "execution_count": 95,
   "id": "bc9b570c",
   "metadata": {},
   "outputs": [
    {
     "name": "stdout",
     "output_type": "stream",
     "text": [
      "['Regular', 'Expression', 'Is', 'An', 'Important', 'Topic', 'In', 'Python']\n"
     ]
    }
   ],
   "source": [
    "Sample_Text='RegularExpressionIsAnImportantTopicInPython'\n",
    "result=re.findall('[A-Z][a-z]*',Sample_Text)\n",
    "print(result)"
   ]
  },
  {
   "cell_type": "code",
   "execution_count": null,
   "id": "2da6f6ed",
   "metadata": {},
   "outputs": [],
   "source": []
  }
 ],
 "metadata": {
  "kernelspec": {
   "display_name": "Python 3 (ipykernel)",
   "language": "python",
   "name": "python3"
  },
  "language_info": {
   "codemirror_mode": {
    "name": "ipython",
    "version": 3
   },
   "file_extension": ".py",
   "mimetype": "text/x-python",
   "name": "python",
   "nbconvert_exporter": "python",
   "pygments_lexer": "ipython3",
   "version": "3.11.5"
  }
 },
 "nbformat": 4,
 "nbformat_minor": 5
}
